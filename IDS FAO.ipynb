{
 "cells": [
  {
   "cell_type": "code",
   "execution_count": 5,
   "metadata": {},
   "outputs": [],
   "source": [
    "import numpy as np\n",
    "import pandas as pd\n",
    "import matplotlib.pyplot as plt\n",
    "import seaborn as sns\n",
    "%matplotlib inline"
   ]
  },
  {
   "cell_type": "code",
   "execution_count": 9,
   "metadata": {},
   "outputs": [],
   "source": [
    "climate = pd.read_csv('Climate_Zone_of_each_country.csv')\n",
    "population = pd.read_csv('FAOSTAT_data_Annual_Population_2009-2018.csv')\n",
    "food_balance = pd.read_csv('FAOSTAT_data_Food_Balance_2009-2013.csv')\n",
    "food_balance2 = pd.read_csv('FAOSTAT_data_Food_Balance_2014-2018.csv')\n",
    "fertilizer = pd.read_csv('FAOSTAT_Fertilizer.csv')\n",
    "pesticides = pd.read_csv('FAOSTAT_Pesticides.csv')"
   ]
  },
  {
   "cell_type": "code",
   "execution_count": 13,
   "metadata": {},
   "outputs": [],
   "source": [
    "crops = pd.read_csv('Production_Crops_E_All_Data_NOFLAG.csv', encoding='ISO-8859-1')"
   ]
  },
  {
   "cell_type": "code",
   "execution_count": null,
   "metadata": {},
   "outputs": [],
   "source": []
  }
 ],
 "metadata": {
  "kernelspec": {
   "display_name": "Python 3",
   "language": "python",
   "name": "python3"
  },
  "language_info": {
   "codemirror_mode": {
    "name": "ipython",
    "version": 3
   },
   "file_extension": ".py",
   "mimetype": "text/x-python",
   "name": "python",
   "nbconvert_exporter": "python",
   "pygments_lexer": "ipython3",
   "version": "3.8.3"
  }
 },
 "nbformat": 4,
 "nbformat_minor": 4
}
